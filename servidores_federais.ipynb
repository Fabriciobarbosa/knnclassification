{
 "cells": [
  {
   "cell_type": "markdown",
   "metadata": {},
   "source": [
    "# ANÁLISE SOBRE A REMUNERAÇÃO DOS SERVIDORES FEDERAIS CIVIS E MILITARES"
   ]
  },
  {
   "cell_type": "markdown",
   "metadata": {},
   "source": [
    "#### Por: Fabrício Barbosa\n",
    "#### Pesquisa realizada para suporte em publicação de artigo em blog \n",
    "#### Fonte: portaltransparencia.gov.br"
   ]
  },
  {
   "cell_type": "code",
   "execution_count": null,
   "metadata": {},
   "outputs": [],
   "source": []
  },
  {
   "cell_type": "markdown",
   "metadata": {},
   "source": [
    "## 1 - QUESTÃO DE NEGÓCIO"
   ]
  },
  {
   "cell_type": "markdown",
   "metadata": {},
   "source": [
    "### Relatório de geração de insights para elaboração de artigo jornalístico "
   ]
  },
  {
   "cell_type": "code",
   "execution_count": null,
   "metadata": {},
   "outputs": [],
   "source": []
  },
  {
   "cell_type": "markdown",
   "metadata": {},
   "source": [
    "## 2 - PROBLEMAS"
   ]
  },
  {
   "cell_type": "markdown",
   "metadata": {},
   "source": [
    "### Qual é o custo da União com a remuneração dos servidores?\n",
    "### Quem custa mais para o Estado Brasileiro: os civis ou os militares?\n",
    "### Em média, quais órgãos e cargos são bem mais remunerados?\n"
   ]
  },
  {
   "cell_type": "markdown",
   "metadata": {},
   "source": [
    "##  3 - COLETA DOS DADOS"
   ]
  },
  {
   "cell_type": "code",
   "execution_count": 1,
   "metadata": {},
   "outputs": [],
   "source": [
    "# ARQUIVO COM OS DADOS BAIXADOS DA FONTE CITADA PARA O SERVIDOR LOCAL\n",
    "#IMPORTANDO AS BIBLIOTECAS NECESSÁRIAS\n",
    "import pandas as pd\n",
    "import numpy as np\n",
    "import seaborn as sns\n",
    "import matplotlib.pyplot as plt\n",
    "% matplotlib inline "
   ]
  },
  {
   "cell_type": "code",
   "execution_count": 2,
   "metadata": {},
   "outputs": [
    {
     "name": "stderr",
     "output_type": "stream",
     "text": [
      "C:\\Users\\sfsrj\\Anaconda3\\lib\\site-packages\\IPython\\core\\interactiveshell.py:2785: DtypeWarning: Columns (10,12,23,29,30) have mixed types. Specify dtype option on import or set low_memory=False.\n",
      "  interactivity=interactivity, compiler=compiler, result=result)\n",
      "C:\\Users\\sfsrj\\Anaconda3\\lib\\site-packages\\IPython\\core\\interactiveshell.py:2785: DtypeWarning: Columns (0) have mixed types. Specify dtype option on import or set low_memory=False.\n",
      "  interactivity=interactivity, compiler=compiler, result=result)\n",
      "C:\\Users\\sfsrj\\Anaconda3\\lib\\site-packages\\IPython\\core\\interactiveshell.py:2785: DtypeWarning: Columns (7,29,41) have mixed types. Specify dtype option on import or set low_memory=False.\n",
      "  interactivity=interactivity, compiler=compiler, result=result)\n"
     ]
    }
   ],
   "source": [
    "df_civis_dados = pd.read_csv('201912_Cadastro.csv',sep = ';', encoding = 'latin1')\n",
    "df_civis_remun = pd.read_csv('201912_Remuneracao.csv', sep = ';' , encoding = 'latin1')\n",
    "df_militar_dados = pd.read_csv('201912_CadastroMilitares.csv' , sep = ';', encoding = 'latin1')\n",
    "df_militar_remun = pd.read_csv ('201912_RemuneracaoMilitares.csv' , sep = ';' , encoding = 'latin1')"
   ]
  },
  {
   "cell_type": "code",
   "execution_count": null,
   "metadata": {},
   "outputs": [],
   "source": []
  },
  {
   "cell_type": "markdown",
   "metadata": {},
   "source": [
    "## 4 - LIMPEZA DOS DADOS"
   ]
  },
  {
   "cell_type": "markdown",
   "metadata": {},
   "source": [
    "### 4.1 - DIMENSÕES DOS DATASETS"
   ]
  },
  {
   "cell_type": "code",
   "execution_count": 3,
   "metadata": {},
   "outputs": [
    {
     "data": {
      "text/plain": [
       "(776072, 42)"
      ]
     },
     "execution_count": 3,
     "metadata": {},
     "output_type": "execute_result"
    }
   ],
   "source": [
    "df_civis_dados.shape"
   ]
  },
  {
   "cell_type": "code",
   "execution_count": 4,
   "metadata": {},
   "outputs": [
    {
     "data": {
      "text/plain": [
       "(556726, 39)"
      ]
     },
     "execution_count": 4,
     "metadata": {},
     "output_type": "execute_result"
    }
   ],
   "source": [
    "df_civis_remun.shape"
   ]
  },
  {
   "cell_type": "code",
   "execution_count": 5,
   "metadata": {},
   "outputs": [
    {
     "data": {
      "text/plain": [
       "(366703, 42)"
      ]
     },
     "execution_count": 5,
     "metadata": {},
     "output_type": "execute_result"
    }
   ],
   "source": [
    "df_militar_dados.shape"
   ]
  },
  {
   "cell_type": "code",
   "execution_count": 6,
   "metadata": {},
   "outputs": [
    {
     "data": {
      "text/plain": [
       "(362446, 39)"
      ]
     },
     "execution_count": 6,
     "metadata": {},
     "output_type": "execute_result"
    }
   ],
   "source": [
    "df_militar_remun.shape"
   ]
  },
  {
   "cell_type": "markdown",
   "metadata": {},
   "source": [
    "### 4.2 - CONHECENDO AS COLUNAS E REGISTROS ÚNICOS"
   ]
  },
  {
   "cell_type": "code",
   "execution_count": 7,
   "metadata": {
    "scrolled": true
   },
   "outputs": [
    {
     "data": {
      "text/plain": [
       "Id_SERVIDOR_PORTAL                      657735\n",
       "NOME                                    644037\n",
       "CPF                                     469227\n",
       "MATRICULA                                  100\n",
       "DESCRICAO_CARGO                           2159\n",
       "CLASSE_CARGO                                34\n",
       "REFERENCIA_CARGO                             2\n",
       "PADRAO_CARGO                               218\n",
       "NIVEL_CARGO                                174\n",
       "SIGLA_FUNCAO                                45\n",
       "NIVEL_FUNCAO                               134\n",
       "FUNCAO                                      46\n",
       "CODIGO_ATIVIDADE                           520\n",
       "ATIVIDADE                                  393\n",
       "OPCAO_PARCIAL                                3\n",
       "COD_UORG_LOTACAO                         43594\n",
       "UORG_LOTACAO                             37830\n",
       "COD_ORG_LOTACAO                            295\n",
       "ORG_LOTACAO                                294\n",
       "COD_ORGSUP_LOTACAO                          18\n",
       "ORGSUP_LOTACAO                              18\n",
       "COD_UORG_EXERCICIO                       65350\n",
       "UORG_EXERCICIO                           56964\n",
       "COD_ORG_EXERCICIO                          634\n",
       "ORG_EXERCICIO                              337\n",
       "COD_ORGSUP_EXERCICIO                        19\n",
       "ORGSUP_EXERCICIO                            19\n",
       "TIPO_VINCULO                                 4\n",
       "SITUACAO_VINCULO                            44\n",
       "DATA_INICIO_AFASTAMENTO                    180\n",
       "DATA_TERMINO_AFASTAMENTO                   165\n",
       "REGIME_JURIDICO                             10\n",
       "JORNADA_DE_TRABALHO                         20\n",
       "DATA_INGRESSO_CARGOFUNCAO                10006\n",
       "DATA_NOMEACAO_CARGOFUNCAO                    0\n",
       "DATA_INGRESSO_ORGAO                      13970\n",
       "DOCUMENTO_INGRESSO_SERVICOPUBLICO        72943\n",
       "DATA_DIPLOMA_INGRESSO_SERVICOPUBLICO     14144\n",
       "DIPLOMA_INGRESSO_CARGOFUNCAO                 0\n",
       "DIPLOMA_INGRESSO_ORGAO                      45\n",
       "DIPLOMA_INGRESSO_SERVICOPUBLICO             48\n",
       "UF_EXERCICIO                                28\n",
       "dtype: int64"
      ]
     },
     "execution_count": 7,
     "metadata": {},
     "output_type": "execute_result"
    }
   ],
   "source": [
    "df_civis_dados.nunique()"
   ]
  },
  {
   "cell_type": "code",
   "execution_count": 8,
   "metadata": {
    "scrolled": true
   },
   "outputs": [
    {
     "data": {
      "text/plain": [
       "ANO                                                                                3\n",
       "MES                                                                                1\n",
       "Id_SERVIDOR_PORTAL                                                            556725\n",
       "CPF                                                                           414527\n",
       "NOME                                                                          545776\n",
       "REMUNERAÇÃO BÁSICA BRUTA (R$)                                                  95039\n",
       "REMUNERAÇÃO BÁSICA BRUTA (U$)                                                      1\n",
       "ABATE-TETO (R$)                                                                  555\n",
       "ABATE-TETO (U$)                                                                    1\n",
       "GRATIFICAÇÃO NATALINA (R$)                                                     51238\n",
       "GRATIFICAÇÃO NATALINA (U$)                                                         1\n",
       "ABATE-TETO DA GRATIFICAÇÃO NATALINA (R$)                                          28\n",
       "ABATE-TETO DA GRATIFICAÇÃO NATALINA (U$)                                           1\n",
       "FÉRIAS (R$)                                                                    72123\n",
       "FÉRIAS (U$)                                                                        1\n",
       "OUTRAS REMUNERAÇÕES EVENTUAIS (R$)                                             80136\n",
       "OUTRAS REMUNERAÇÕES EVENTUAIS (U$)                                                 1\n",
       "IRRF (R$)                                                                     204586\n",
       "IRRF (U$)                                                                          1\n",
       "PSS/RPGS (R$)                                                                  75462\n",
       "PSS/RPGS (U$)                                                                      1\n",
       "DEMAIS DEDUÇÕES (R$)                                                           37153\n",
       "DEMAIS DEDUÇÕES (U$)                                                               1\n",
       "PENSÃO MILITAR (R$)                                                              181\n",
       "PENSÃO MILITAR (U$)                                                                1\n",
       "FUNDO DE SAÚDE (R$)                                                              189\n",
       "FUNDO DE SAÚDE (U$)                                                                1\n",
       "TAXA DE OCUPAÇÃO IMÓVEL FUNCIONAL (R$)                                           292\n",
       "TAXA DE OCUPAÇÃO IMÓVEL FUNCIONAL (U$)                                             1\n",
       "REMUNERAÇÃO APÓS DEDUÇÕES OBRIGATÓRIAS (R$)                                   310104\n",
       "REMUNERAÇÃO APÓS DEDUÇÕES OBRIGATÓRIAS (U$)                                        1\n",
       "VERBAS INDENIZATÓRIAS REGISTRADAS EM SISTEMAS DE PESSOAL - CIVIL (R$)(*)       70337\n",
       "VERBAS INDENIZATÓRIAS REGISTRADAS EM SISTEMAS DE PESSOAL - CIVIL (U$)(*)           1\n",
       "VERBAS INDENIZATÓRIAS REGISTRADAS EM SISTEMAS DE PESSOAL - MILITAR (R$)(*)       181\n",
       "VERBAS INDENIZATÓRIAS REGISTRADAS EM SISTEMAS DE PESSOAL - MILITAR (U$)(*)         1\n",
       "VERBAS INDENIZATÓRIAS PROGRAMA DESLIGAMENTO VOLUNTÁRIO  MP 792/2017 (R$)        147\n",
       "VERBAS INDENIZATÓRIAS PROGRAMA DESLIGAMENTO VOLUNTÁRIO  MP 792/2017 (U$)          1\n",
       "TOTAL DE VERBAS INDENIZATÓRIAS (R$)(*)                                         70582\n",
       "TOTAL DE VERBAS INDENIZATÓRIAS (U$)(*)                                             1\n",
       "dtype: int64"
      ]
     },
     "execution_count": 8,
     "metadata": {},
     "output_type": "execute_result"
    }
   ],
   "source": [
    "df_civis_remun.nunique()"
   ]
  },
  {
   "cell_type": "code",
   "execution_count": 9,
   "metadata": {
    "scrolled": true
   },
   "outputs": [
    {
     "data": {
      "text/plain": [
       "Id_SERVIDOR_PORTAL                      363601\n",
       "NOME                                    350819\n",
       "CPF                                     280358\n",
       "MATRICULA                                   93\n",
       "DESCRICAO_CARGO                            109\n",
       "CLASSE_CARGO                                22\n",
       "REFERENCIA_CARGO                             2\n",
       "PADRAO_CARGO                                37\n",
       "NIVEL_CARGO                                 17\n",
       "SIGLA_FUNCAO                                11\n",
       "NIVEL_FUNCAO                                24\n",
       "FUNCAO                                      11\n",
       "CODIGO_ATIVIDADE                            38\n",
       "ATIVIDADE                                   31\n",
       "OPCAO_PARCIAL                                2\n",
       "COD_UORG_LOTACAO                           277\n",
       "UORG_LOTACAO                               268\n",
       "COD_ORG_LOTACAO                             60\n",
       "ORG_LOTACAO                                 60\n",
       "COD_ORGSUP_LOTACAO                           7\n",
       "ORGSUP_LOTACAO                               7\n",
       "COD_UORG_EXERCICIO                         500\n",
       "UORG_EXERCICIO                             486\n",
       "COD_ORG_EXERCICIO                           68\n",
       "ORG_EXERCICIO                               68\n",
       "COD_ORGSUP_EXERCICIO                         9\n",
       "ORGSUP_EXERCICIO                             9\n",
       "TIPO_VINCULO                                 4\n",
       "SITUACAO_VINCULO                            15\n",
       "DATA_INICIO_AFASTAMENTO                     32\n",
       "DATA_TERMINO_AFASTAMENTO                     0\n",
       "REGIME_JURIDICO                              8\n",
       "JORNADA_DE_TRABALHO                         10\n",
       "DATA_INGRESSO_CARGOFUNCAO                  646\n",
       "DATA_NOMEACAO_CARGOFUNCAO                    0\n",
       "DATA_INGRESSO_ORGAO                       1069\n",
       "DOCUMENTO_INGRESSO_SERVICOPUBLICO         3428\n",
       "DATA_DIPLOMA_INGRESSO_SERVICOPUBLICO       907\n",
       "DIPLOMA_INGRESSO_CARGOFUNCAO                 0\n",
       "DIPLOMA_INGRESSO_ORGAO                      19\n",
       "DIPLOMA_INGRESSO_SERVICOPUBLICO             19\n",
       "UF_EXERCICIO                                23\n",
       "dtype: int64"
      ]
     },
     "execution_count": 9,
     "metadata": {},
     "output_type": "execute_result"
    }
   ],
   "source": [
    "df_militar_dados.nunique()"
   ]
  },
  {
   "cell_type": "code",
   "execution_count": 10,
   "metadata": {
    "scrolled": true
   },
   "outputs": [
    {
     "data": {
      "text/plain": [
       "ANO                                                                                3\n",
       "MES                                                                                1\n",
       "Id_SERVIDOR_PORTAL                                                            362445\n",
       "CPF                                                                           279766\n",
       "NOME                                                                          349705\n",
       "REMUNERAÇÃO BÁSICA BRUTA (R$)                                                   6389\n",
       "REMUNERAÇÃO BÁSICA BRUTA (U$)                                                     25\n",
       "ABATE-TETO (R$)                                                                    6\n",
       "ABATE-TETO (U$)                                                                    1\n",
       "GRATIFICAÇÃO NATALINA (R$)                                                      1712\n",
       "GRATIFICAÇÃO NATALINA (U$)                                                         1\n",
       "ABATE-TETO DA GRATIFICAÇÃO NATALINA (R$)                                           1\n",
       "ABATE-TETO DA GRATIFICAÇÃO NATALINA (U$)                                           1\n",
       "FÉRIAS (R$)                                                                     3120\n",
       "FÉRIAS (U$)                                                                        1\n",
       "OUTRAS REMUNERAÇÕES EVENTUAIS (R$)                                             10365\n",
       "OUTRAS REMUNERAÇÕES EVENTUAIS (U$)                                                38\n",
       "IRRF (R$)                                                                      56499\n",
       "IRRF (U$)                                                                         84\n",
       "PSS/RPGS (R$)                                                                    135\n",
       "PSS/RPGS (U$)                                                                      1\n",
       "DEMAIS DEDUÇÕES (R$)                                                           29324\n",
       "DEMAIS DEDUÇÕES (U$)                                                               4\n",
       "PENSÃO MILITAR (R$)                                                             6106\n",
       "PENSÃO MILITAR (U$)                                                              130\n",
       "FUNDO DE SAÚDE (R$)                                                             7751\n",
       "FUNDO DE SAÚDE (U$)                                                              117\n",
       "TAXA DE OCUPAÇÃO IMÓVEL FUNCIONAL (R$)                                             1\n",
       "TAXA DE OCUPAÇÃO IMÓVEL FUNCIONAL (U$)                                             1\n",
       "REMUNERAÇÃO APÓS DEDUÇÕES OBRIGATÓRIAS (R$)                                   124595\n",
       "REMUNERAÇÃO APÓS DEDUÇÕES OBRIGATÓRIAS (U$)                                      169\n",
       "VERBAS INDENIZATÓRIAS REGISTRADAS EM SISTEMAS DE PESSOAL - CIVIL (R$)(*)         143\n",
       "VERBAS INDENIZATÓRIAS REGISTRADAS EM SISTEMAS DE PESSOAL - CIVIL (U$)(*)           1\n",
       "VERBAS INDENIZATÓRIAS REGISTRADAS EM SISTEMAS DE PESSOAL - MILITAR (R$)(*)     33620\n",
       "VERBAS INDENIZATÓRIAS REGISTRADAS EM SISTEMAS DE PESSOAL - MILITAR (U$)(*)       138\n",
       "VERBAS INDENIZATÓRIAS PROGRAMA DESLIGAMENTO VOLUNTÁRIO  MP 792/2017 (R$)          1\n",
       "VERBAS INDENIZATÓRIAS PROGRAMA DESLIGAMENTO VOLUNTÁRIO  MP 792/2017 (U$)          1\n",
       "TOTAL DE VERBAS INDENIZATÓRIAS (R$)(*)                                         33756\n",
       "TOTAL DE VERBAS INDENIZATÓRIAS (U$)(*)                                           138\n",
       "dtype: int64"
      ]
     },
     "execution_count": 10,
     "metadata": {},
     "output_type": "execute_result"
    }
   ],
   "source": [
    "df_militar_remun.nunique()"
   ]
  },
  {
   "cell_type": "markdown",
   "metadata": {},
   "source": [
    "### 4.3 - IDENTIFICANDO E REMOVENDO DADOS DUPLICADOS"
   ]
  },
  {
   "cell_type": "code",
   "execution_count": 11,
   "metadata": {
    "scrolled": true
   },
   "outputs": [
    {
     "data": {
      "text/plain": [
       "7659"
      ]
     },
     "execution_count": 11,
     "metadata": {},
     "output_type": "execute_result"
    }
   ],
   "source": [
    "df_civis_dados.duplicated().sum()"
   ]
  },
  {
   "cell_type": "code",
   "execution_count": 12,
   "metadata": {},
   "outputs": [
    {
     "data": {
      "text/plain": [
       "0"
      ]
     },
     "execution_count": 12,
     "metadata": {},
     "output_type": "execute_result"
    }
   ],
   "source": [
    "df_civis_dados.drop_duplicates(inplace =True)\n",
    "df_civis_dados.duplicated().sum()"
   ]
  },
  {
   "cell_type": "code",
   "execution_count": 13,
   "metadata": {},
   "outputs": [
    {
     "data": {
      "text/plain": [
       "0"
      ]
     },
     "execution_count": 13,
     "metadata": {},
     "output_type": "execute_result"
    }
   ],
   "source": [
    "df_civis_remun.duplicated().sum()"
   ]
  },
  {
   "cell_type": "code",
   "execution_count": 14,
   "metadata": {},
   "outputs": [
    {
     "data": {
      "text/plain": [
       "0"
      ]
     },
     "execution_count": 14,
     "metadata": {},
     "output_type": "execute_result"
    }
   ],
   "source": [
    "df_militar_dados.duplicated().sum()"
   ]
  },
  {
   "cell_type": "code",
   "execution_count": 15,
   "metadata": {},
   "outputs": [
    {
     "data": {
      "text/plain": [
       "0"
      ]
     },
     "execution_count": 15,
     "metadata": {},
     "output_type": "execute_result"
    }
   ],
   "source": [
    "df_militar_remun.duplicated().sum()"
   ]
  },
  {
   "cell_type": "markdown",
   "metadata": {},
   "source": [
    "### 4.4 - OTIMIZANDO OS DATASETS ELIMINANDO COLUNAS SEM INTERESSE"
   ]
  },
  {
   "cell_type": "code",
   "execution_count": 16,
   "metadata": {},
   "outputs": [
    {
     "data": {
      "text/html": [
       "<div>\n",
       "<style scoped>\n",
       "    .dataframe tbody tr th:only-of-type {\n",
       "        vertical-align: middle;\n",
       "    }\n",
       "\n",
       "    .dataframe tbody tr th {\n",
       "        vertical-align: top;\n",
       "    }\n",
       "\n",
       "    .dataframe thead th {\n",
       "        text-align: right;\n",
       "    }\n",
       "</style>\n",
       "<table border=\"1\" class=\"dataframe\">\n",
       "  <thead>\n",
       "    <tr style=\"text-align: right;\">\n",
       "      <th></th>\n",
       "      <th>Id_SERVIDOR_PORTAL</th>\n",
       "      <th>DESCRICAO_CARGO</th>\n",
       "      <th>NIVEL_CARGO</th>\n",
       "      <th>ORG_EXERCICIO</th>\n",
       "      <th>JORNADA_DE_TRABALHO</th>\n",
       "      <th>DATA_INGRESSO_CARGOFUNCAO</th>\n",
       "      <th>UF_EXERCICIO</th>\n",
       "    </tr>\n",
       "  </thead>\n",
       "  <tbody>\n",
       "    <tr>\n",
       "      <th>0</th>\n",
       "      <td>5116961</td>\n",
       "      <td>BIBLIOTECARIO-DOCUMENTALISTA</td>\n",
       "      <td>0.0</td>\n",
       "      <td>Instituto Federal do Ceará</td>\n",
       "      <td>40 HORAS SEMANAIS</td>\n",
       "      <td>11/02/2009</td>\n",
       "      <td>CE</td>\n",
       "    </tr>\n",
       "    <tr>\n",
       "      <th>1</th>\n",
       "      <td>201964</td>\n",
       "      <td>Sem informação</td>\n",
       "      <td>-1.0</td>\n",
       "      <td>Banco Central do Brasil</td>\n",
       "      <td>40 HORAS SEMANAIS</td>\n",
       "      <td>10/06/2019</td>\n",
       "      <td>-1</td>\n",
       "    </tr>\n",
       "    <tr>\n",
       "      <th>2</th>\n",
       "      <td>201964</td>\n",
       "      <td>ANALISTA DO BANCO CENTRAL</td>\n",
       "      <td>NaN</td>\n",
       "      <td>Banco Central do Brasil</td>\n",
       "      <td>40 HORAS SEMANAIS</td>\n",
       "      <td>05/01/1998</td>\n",
       "      <td>DF</td>\n",
       "    </tr>\n",
       "    <tr>\n",
       "      <th>3</th>\n",
       "      <td>4405000</td>\n",
       "      <td>Sem informação</td>\n",
       "      <td>-1.0</td>\n",
       "      <td>Universidade Federal do Pará</td>\n",
       "      <td>DEDICACAO EXCLUSIVA</td>\n",
       "      <td>13/04/2016</td>\n",
       "      <td>-1</td>\n",
       "    </tr>\n",
       "    <tr>\n",
       "      <th>4</th>\n",
       "      <td>4405000</td>\n",
       "      <td>PROFESSOR DO MAGISTERIO SUPERIOR</td>\n",
       "      <td>604.0</td>\n",
       "      <td>Universidade Federal do Pará</td>\n",
       "      <td>DEDICACAO EXCLUSIVA</td>\n",
       "      <td>01/03/2013</td>\n",
       "      <td>-1</td>\n",
       "    </tr>\n",
       "  </tbody>\n",
       "</table>\n",
       "</div>"
      ],
      "text/plain": [
       "   Id_SERVIDOR_PORTAL                   DESCRICAO_CARGO  NIVEL_CARGO  \\\n",
       "0             5116961      BIBLIOTECARIO-DOCUMENTALISTA          0.0   \n",
       "1              201964                    Sem informação         -1.0   \n",
       "2              201964         ANALISTA DO BANCO CENTRAL          NaN   \n",
       "3             4405000                    Sem informação         -1.0   \n",
       "4             4405000  PROFESSOR DO MAGISTERIO SUPERIOR        604.0   \n",
       "\n",
       "                  ORG_EXERCICIO  JORNADA_DE_TRABALHO  \\\n",
       "0    Instituto Federal do Ceará    40 HORAS SEMANAIS   \n",
       "1       Banco Central do Brasil    40 HORAS SEMANAIS   \n",
       "2       Banco Central do Brasil    40 HORAS SEMANAIS   \n",
       "3  Universidade Federal do Pará  DEDICACAO EXCLUSIVA   \n",
       "4  Universidade Federal do Pará  DEDICACAO EXCLUSIVA   \n",
       "\n",
       "  DATA_INGRESSO_CARGOFUNCAO UF_EXERCICIO  \n",
       "0                11/02/2009           CE  \n",
       "1                10/06/2019           -1  \n",
       "2                05/01/1998           DF  \n",
       "3                13/04/2016           -1  \n",
       "4                01/03/2013           -1  "
      ]
     },
     "execution_count": 16,
     "metadata": {},
     "output_type": "execute_result"
    }
   ],
   "source": [
    "df_civis_dados.drop(columns =['NOME','CPF','MATRICULA','CLASSE_CARGO','REFERENCIA_CARGO','PADRAO_CARGO','SIGLA_FUNCAO',\n",
    "                             'NIVEL_FUNCAO','FUNCAO','CODIGO_ATIVIDADE','ATIVIDADE','OPCAO_PARCIAL','COD_UORG_LOTACAO',\n",
    "                             'UORG_LOTACAO','COD_ORG_LOTACAO','ORG_LOTACAO','COD_ORGSUP_LOTACAO','ORGSUP_LOTACAO',\n",
    "                             'COD_UORG_EXERCICIO','UORG_EXERCICIO','COD_ORG_EXERCICIO','COD_ORGSUP_EXERCICIO',\n",
    "                             'ORGSUP_EXERCICIO','TIPO_VINCULO','SITUACAO_VINCULO','DATA_INICIO_AFASTAMENTO',\n",
    "                             'DATA_TERMINO_AFASTAMENTO','REGIME_JURIDICO','DATA_NOMEACAO_CARGOFUNCAO','DATA_INGRESSO_ORGAO',\n",
    "                             'DOCUMENTO_INGRESSO_SERVICOPUBLICO','DATA_DIPLOMA_INGRESSO_SERVICOPUBLICO','DIPLOMA_INGRESSO_CARGOFUNCAO',\n",
    "                             'DIPLOMA_INGRESSO_ORGAO','DIPLOMA_INGRESSO_SERVICOPUBLICO'],inplace =True)\n",
    "df_civis_dados.head()"
   ]
  },
  {
   "cell_type": "code",
   "execution_count": 17,
   "metadata": {},
   "outputs": [
    {
     "data": {
      "text/html": [
       "<div>\n",
       "<style scoped>\n",
       "    .dataframe tbody tr th:only-of-type {\n",
       "        vertical-align: middle;\n",
       "    }\n",
       "\n",
       "    .dataframe tbody tr th {\n",
       "        vertical-align: top;\n",
       "    }\n",
       "\n",
       "    .dataframe thead th {\n",
       "        text-align: right;\n",
       "    }\n",
       "</style>\n",
       "<table border=\"1\" class=\"dataframe\">\n",
       "  <thead>\n",
       "    <tr style=\"text-align: right;\">\n",
       "      <th></th>\n",
       "      <th>Id_SERVIDOR_PORTAL</th>\n",
       "      <th>REMUNERAÇÃO BÁSICA BRUTA (R$)</th>\n",
       "      <th>REMUNERAÇÃO APÓS DEDUÇÕES OBRIGATÓRIAS (R$)</th>\n",
       "    </tr>\n",
       "  </thead>\n",
       "  <tbody>\n",
       "    <tr>\n",
       "      <th>0</th>\n",
       "      <td>5116961.0</td>\n",
       "      <td>7967,90</td>\n",
       "      <td>6458,52</td>\n",
       "    </tr>\n",
       "    <tr>\n",
       "      <th>1</th>\n",
       "      <td>201964.0</td>\n",
       "      <td>34006,68</td>\n",
       "      <td>25821,19</td>\n",
       "    </tr>\n",
       "    <tr>\n",
       "      <th>2</th>\n",
       "      <td>4405000.0</td>\n",
       "      <td>14249,03</td>\n",
       "      <td>10141,35</td>\n",
       "    </tr>\n",
       "    <tr>\n",
       "      <th>3</th>\n",
       "      <td>4915841.0</td>\n",
       "      <td>21007,45</td>\n",
       "      <td>33621,26</td>\n",
       "    </tr>\n",
       "    <tr>\n",
       "      <th>4</th>\n",
       "      <td>5105492.0</td>\n",
       "      <td>5896,78</td>\n",
       "      <td>9373,53</td>\n",
       "    </tr>\n",
       "  </tbody>\n",
       "</table>\n",
       "</div>"
      ],
      "text/plain": [
       "   Id_SERVIDOR_PORTAL REMUNERAÇÃO BÁSICA BRUTA (R$)  \\\n",
       "0           5116961.0                       7967,90   \n",
       "1            201964.0                      34006,68   \n",
       "2           4405000.0                      14249,03   \n",
       "3           4915841.0                      21007,45   \n",
       "4           5105492.0                       5896,78   \n",
       "\n",
       "  REMUNERAÇÃO APÓS DEDUÇÕES OBRIGATÓRIAS (R$)  \n",
       "0                                     6458,52  \n",
       "1                                    25821,19  \n",
       "2                                    10141,35  \n",
       "3                                    33621,26  \n",
       "4                                     9373,53  "
      ]
     },
     "execution_count": 17,
     "metadata": {},
     "output_type": "execute_result"
    }
   ],
   "source": [
    "df_civis_remun.drop(columns =['ANO','MES','CPF','NOME','REMUNERAÇÃO BÁSICA BRUTA (U$)','ABATE-TETO (R$)','ABATE-TETO (U$)',\n",
    "                             'GRATIFICAÇÃO NATALINA (R$)','GRATIFICAÇÃO NATALINA (U$)','ABATE-TETO DA GRATIFICAÇÃO NATALINA (R$)',\n",
    "                             'ABATE-TETO DA GRATIFICAÇÃO NATALINA (U$)','FÉRIAS (R$)','FÉRIAS (U$)','OUTRAS REMUNERAÇÕES EVENTUAIS (R$)',\n",
    "                             'OUTRAS REMUNERAÇÕES EVENTUAIS (U$)','IRRF (R$)','IRRF (U$)','PSS/RPGS (R$)','PSS/RPGS (U$)',\n",
    "                             'DEMAIS DEDUÇÕES (R$)','DEMAIS DEDUÇÕES (U$)','PENSÃO MILITAR (R$)','PENSÃO MILITAR (U$)',\n",
    "                             'FUNDO DE SAÚDE (R$)','FUNDO DE SAÚDE (U$)','TAXA DE OCUPAÇÃO IMÓVEL FUNCIONAL (R$)',\n",
    "                             'TAXA DE OCUPAÇÃO IMÓVEL FUNCIONAL (U$)','REMUNERAÇÃO APÓS DEDUÇÕES OBRIGATÓRIAS (U$)',\n",
    "                             'VERBAS INDENIZATÓRIAS REGISTRADAS EM SISTEMAS DE PESSOAL - CIVIL (R$)(*)',\n",
    "                             'VERBAS INDENIZATÓRIAS REGISTRADAS EM SISTEMAS DE PESSOAL - CIVIL (U$)(*)',\n",
    "                             'VERBAS INDENIZATÓRIAS REGISTRADAS EM SISTEMAS DE PESSOAL - MILITAR (R$)(*)',\n",
    "                             'VERBAS INDENIZATÓRIAS REGISTRADAS EM SISTEMAS DE PESSOAL - MILITAR (U$)(*)',\n",
    "                             'VERBAS INDENIZATÓRIAS PROGRAMA DESLIGAMENTO VOLUNTÁRIO  MP 792/2017 (R$)',\n",
    "                             'VERBAS INDENIZATÓRIAS PROGRAMA DESLIGAMENTO VOLUNTÁRIO  MP 792/2017 (U$)',\n",
    "                             'TOTAL DE VERBAS INDENIZATÓRIAS (R$)(*)','TOTAL DE VERBAS INDENIZATÓRIAS (U$)(*)'],inplace =True)\n",
    "df_civis_remun.head()"
   ]
  },
  {
   "cell_type": "code",
   "execution_count": 18,
   "metadata": {},
   "outputs": [
    {
     "data": {
      "text/html": [
       "<div>\n",
       "<style scoped>\n",
       "    .dataframe tbody tr th:only-of-type {\n",
       "        vertical-align: middle;\n",
       "    }\n",
       "\n",
       "    .dataframe tbody tr th {\n",
       "        vertical-align: top;\n",
       "    }\n",
       "\n",
       "    .dataframe thead th {\n",
       "        text-align: right;\n",
       "    }\n",
       "</style>\n",
       "<table border=\"1\" class=\"dataframe\">\n",
       "  <thead>\n",
       "    <tr style=\"text-align: right;\">\n",
       "      <th></th>\n",
       "      <th>Id_SERVIDOR_PORTAL</th>\n",
       "      <th>DESCRICAO_CARGO</th>\n",
       "      <th>NIVEL_CARGO</th>\n",
       "      <th>ORG_EXERCICIO</th>\n",
       "      <th>JORNADA_DE_TRABALHO</th>\n",
       "      <th>DATA_INGRESSO_CARGOFUNCAO</th>\n",
       "      <th>UF_EXERCICIO</th>\n",
       "    </tr>\n",
       "  </thead>\n",
       "  <tbody>\n",
       "    <tr>\n",
       "      <th>0</th>\n",
       "      <td>4806495</td>\n",
       "      <td>Primeiro-Tenente</td>\n",
       "      <td>0</td>\n",
       "      <td>Comando da Aeronáutica</td>\n",
       "      <td>DSPN. PERMANENTE</td>\n",
       "      <td>NaN</td>\n",
       "      <td>-1</td>\n",
       "    </tr>\n",
       "    <tr>\n",
       "      <th>1</th>\n",
       "      <td>8903134</td>\n",
       "      <td>Terceiro-Sargento</td>\n",
       "      <td>0</td>\n",
       "      <td>Comando da Aeronáutica</td>\n",
       "      <td>DSPN. PERMANENTE</td>\n",
       "      <td>NaN</td>\n",
       "      <td>-1</td>\n",
       "    </tr>\n",
       "    <tr>\n",
       "      <th>2</th>\n",
       "      <td>9404736</td>\n",
       "      <td>Marinheiro, Soldado Fuzileiro Naval</td>\n",
       "      <td>0</td>\n",
       "      <td>Comando da Marinha</td>\n",
       "      <td>DSPN. PERMANENTE</td>\n",
       "      <td>NaN</td>\n",
       "      <td>-1</td>\n",
       "    </tr>\n",
       "    <tr>\n",
       "      <th>3</th>\n",
       "      <td>86040592</td>\n",
       "      <td>Soldado-Recruta</td>\n",
       "      <td>0</td>\n",
       "      <td>Comando do Exército</td>\n",
       "      <td>DSPN. PERMANENTE</td>\n",
       "      <td>NaN</td>\n",
       "      <td>-1</td>\n",
       "    </tr>\n",
       "    <tr>\n",
       "      <th>4</th>\n",
       "      <td>2504309</td>\n",
       "      <td>Terceiro-Sargento</td>\n",
       "      <td>0</td>\n",
       "      <td>Comando da Marinha</td>\n",
       "      <td>DSPN. PERMANENTE</td>\n",
       "      <td>NaN</td>\n",
       "      <td>-1</td>\n",
       "    </tr>\n",
       "  </tbody>\n",
       "</table>\n",
       "</div>"
      ],
      "text/plain": [
       "   Id_SERVIDOR_PORTAL                      DESCRICAO_CARGO  NIVEL_CARGO  \\\n",
       "0             4806495                     Primeiro-Tenente            0   \n",
       "1             8903134                    Terceiro-Sargento            0   \n",
       "2             9404736  Marinheiro, Soldado Fuzileiro Naval            0   \n",
       "3            86040592                      Soldado-Recruta            0   \n",
       "4             2504309                    Terceiro-Sargento            0   \n",
       "\n",
       "            ORG_EXERCICIO JORNADA_DE_TRABALHO DATA_INGRESSO_CARGOFUNCAO  \\\n",
       "0  Comando da Aeronáutica    DSPN. PERMANENTE                       NaN   \n",
       "1  Comando da Aeronáutica    DSPN. PERMANENTE                       NaN   \n",
       "2      Comando da Marinha    DSPN. PERMANENTE                       NaN   \n",
       "3     Comando do Exército    DSPN. PERMANENTE                       NaN   \n",
       "4      Comando da Marinha    DSPN. PERMANENTE                       NaN   \n",
       "\n",
       "  UF_EXERCICIO  \n",
       "0           -1  \n",
       "1           -1  \n",
       "2           -1  \n",
       "3           -1  \n",
       "4           -1  "
      ]
     },
     "execution_count": 18,
     "metadata": {},
     "output_type": "execute_result"
    }
   ],
   "source": [
    "df_militar_dados.drop(columns =['NOME','CPF','MATRICULA','CLASSE_CARGO','REFERENCIA_CARGO','PADRAO_CARGO','SIGLA_FUNCAO',\n",
    "                             'NIVEL_FUNCAO','FUNCAO','CODIGO_ATIVIDADE','ATIVIDADE','OPCAO_PARCIAL','COD_UORG_LOTACAO',\n",
    "                             'UORG_LOTACAO','COD_ORG_LOTACAO','ORG_LOTACAO','COD_ORGSUP_LOTACAO','ORGSUP_LOTACAO',\n",
    "                             'COD_UORG_EXERCICIO','UORG_EXERCICIO','COD_ORG_EXERCICIO','COD_ORGSUP_EXERCICIO',\n",
    "                             'ORGSUP_EXERCICIO','TIPO_VINCULO','SITUACAO_VINCULO','DATA_INICIO_AFASTAMENTO',\n",
    "                             'DATA_TERMINO_AFASTAMENTO','REGIME_JURIDICO','DATA_NOMEACAO_CARGOFUNCAO','DATA_INGRESSO_ORGAO',\n",
    "                             'DOCUMENTO_INGRESSO_SERVICOPUBLICO','DATA_DIPLOMA_INGRESSO_SERVICOPUBLICO','DIPLOMA_INGRESSO_CARGOFUNCAO',\n",
    "                             'DIPLOMA_INGRESSO_ORGAO','DIPLOMA_INGRESSO_SERVICOPUBLICO'],inplace =True)\n",
    "df_militar_dados.head()"
   ]
  },
  {
   "cell_type": "code",
   "execution_count": 19,
   "metadata": {},
   "outputs": [
    {
     "data": {
      "text/html": [
       "<div>\n",
       "<style scoped>\n",
       "    .dataframe tbody tr th:only-of-type {\n",
       "        vertical-align: middle;\n",
       "    }\n",
       "\n",
       "    .dataframe tbody tr th {\n",
       "        vertical-align: top;\n",
       "    }\n",
       "\n",
       "    .dataframe thead th {\n",
       "        text-align: right;\n",
       "    }\n",
       "</style>\n",
       "<table border=\"1\" class=\"dataframe\">\n",
       "  <thead>\n",
       "    <tr style=\"text-align: right;\">\n",
       "      <th></th>\n",
       "      <th>Id_SERVIDOR_PORTAL</th>\n",
       "      <th>REMUNERAÇÃO BÁSICA BRUTA (R$)</th>\n",
       "      <th>REMUNERAÇÃO APÓS DEDUÇÕES OBRIGATÓRIAS (R$)</th>\n",
       "    </tr>\n",
       "  </thead>\n",
       "  <tbody>\n",
       "    <tr>\n",
       "      <th>0</th>\n",
       "      <td>4806495.0</td>\n",
       "      <td>11130,75</td>\n",
       "      <td>8479,56</td>\n",
       "    </tr>\n",
       "    <tr>\n",
       "      <th>1</th>\n",
       "      <td>8903134.0</td>\n",
       "      <td>5049,00</td>\n",
       "      <td>4108,35</td>\n",
       "    </tr>\n",
       "    <tr>\n",
       "      <th>2</th>\n",
       "      <td>9404736.0</td>\n",
       "      <td>1950,00</td>\n",
       "      <td>1401,19</td>\n",
       "    </tr>\n",
       "    <tr>\n",
       "      <th>3</th>\n",
       "      <td>86040592.0</td>\n",
       "      <td>956,00</td>\n",
       "      <td>2026,72</td>\n",
       "    </tr>\n",
       "    <tr>\n",
       "      <th>4</th>\n",
       "      <td>2504309.0</td>\n",
       "      <td>5967,00</td>\n",
       "      <td>3146,20</td>\n",
       "    </tr>\n",
       "  </tbody>\n",
       "</table>\n",
       "</div>"
      ],
      "text/plain": [
       "   Id_SERVIDOR_PORTAL REMUNERAÇÃO BÁSICA BRUTA (R$)  \\\n",
       "0           4806495.0                      11130,75   \n",
       "1           8903134.0                       5049,00   \n",
       "2           9404736.0                       1950,00   \n",
       "3          86040592.0                        956,00   \n",
       "4           2504309.0                       5967,00   \n",
       "\n",
       "  REMUNERAÇÃO APÓS DEDUÇÕES OBRIGATÓRIAS (R$)  \n",
       "0                                     8479,56  \n",
       "1                                     4108,35  \n",
       "2                                     1401,19  \n",
       "3                                     2026,72  \n",
       "4                                     3146,20  "
      ]
     },
     "execution_count": 19,
     "metadata": {},
     "output_type": "execute_result"
    }
   ],
   "source": [
    "df_militar_remun.drop(columns =['ANO','MES','CPF','NOME','REMUNERAÇÃO BÁSICA BRUTA (U$)','ABATE-TETO (R$)','ABATE-TETO (U$)',\n",
    "                             'GRATIFICAÇÃO NATALINA (R$)','GRATIFICAÇÃO NATALINA (U$)','ABATE-TETO DA GRATIFICAÇÃO NATALINA (R$)',\n",
    "                             'ABATE-TETO DA GRATIFICAÇÃO NATALINA (U$)','FÉRIAS (R$)','FÉRIAS (U$)','OUTRAS REMUNERAÇÕES EVENTUAIS (R$)',\n",
    "                             'OUTRAS REMUNERAÇÕES EVENTUAIS (U$)','IRRF (R$)','IRRF (U$)','PSS/RPGS (R$)','PSS/RPGS (U$)',\n",
    "                             'DEMAIS DEDUÇÕES (R$)','DEMAIS DEDUÇÕES (U$)','PENSÃO MILITAR (R$)','PENSÃO MILITAR (U$)',\n",
    "                             'FUNDO DE SAÚDE (R$)','FUNDO DE SAÚDE (U$)','TAXA DE OCUPAÇÃO IMÓVEL FUNCIONAL (R$)',\n",
    "                             'TAXA DE OCUPAÇÃO IMÓVEL FUNCIONAL (U$)','REMUNERAÇÃO APÓS DEDUÇÕES OBRIGATÓRIAS (U$)',\n",
    "                             'VERBAS INDENIZATÓRIAS REGISTRADAS EM SISTEMAS DE PESSOAL - CIVIL (R$)(*)',\n",
    "                             'VERBAS INDENIZATÓRIAS REGISTRADAS EM SISTEMAS DE PESSOAL - CIVIL (U$)(*)',\n",
    "                             'VERBAS INDENIZATÓRIAS REGISTRADAS EM SISTEMAS DE PESSOAL - MILITAR (R$)(*)',\n",
    "                             'VERBAS INDENIZATÓRIAS REGISTRADAS EM SISTEMAS DE PESSOAL - MILITAR (U$)(*)',\n",
    "                             'VERBAS INDENIZATÓRIAS PROGRAMA DESLIGAMENTO VOLUNTÁRIO  MP 792/2017 (R$)',\n",
    "                             'VERBAS INDENIZATÓRIAS PROGRAMA DESLIGAMENTO VOLUNTÁRIO  MP 792/2017 (U$)',\n",
    "                             'TOTAL DE VERBAS INDENIZATÓRIAS (R$)(*)','TOTAL DE VERBAS INDENIZATÓRIAS (U$)(*)'],inplace =True)\n",
    "df_militar_remun.head()"
   ]
  },
  {
   "cell_type": "markdown",
   "metadata": {},
   "source": [
    "### 4.5 - VERIFICANDO OS TIPOS"
   ]
  },
  {
   "cell_type": "code",
   "execution_count": 20,
   "metadata": {},
   "outputs": [
    {
     "data": {
      "text/plain": [
       "Id_SERVIDOR_PORTAL             int64\n",
       "DESCRICAO_CARGO               object\n",
       "NIVEL_CARGO                  float64\n",
       "ORG_EXERCICIO                 object\n",
       "JORNADA_DE_TRABALHO           object\n",
       "DATA_INGRESSO_CARGOFUNCAO     object\n",
       "UF_EXERCICIO                  object\n",
       "dtype: object"
      ]
     },
     "execution_count": 20,
     "metadata": {},
     "output_type": "execute_result"
    }
   ],
   "source": [
    "df_civis_dados.dtypes"
   ]
  },
  {
   "cell_type": "code",
   "execution_count": 21,
   "metadata": {},
   "outputs": [
    {
     "data": {
      "text/plain": [
       "Id_SERVIDOR_PORTAL                             float64\n",
       "REMUNERAÇÃO BÁSICA BRUTA (R$)                   object\n",
       "REMUNERAÇÃO APÓS DEDUÇÕES OBRIGATÓRIAS (R$)     object\n",
       "dtype: object"
      ]
     },
     "execution_count": 21,
     "metadata": {},
     "output_type": "execute_result"
    }
   ],
   "source": [
    "df_civis_remun.dtypes"
   ]
  },
  {
   "cell_type": "code",
   "execution_count": 22,
   "metadata": {},
   "outputs": [],
   "source": [
    "df_civis_remun['REMUNERAÇÃO BÁSICA BRUTA (R$)'] = df_civis_remun['REMUNERAÇÃO BÁSICA BRUTA (R$)'].str.replace(',','.')\n",
    "df_civis_remun['REMUNERAÇÃO APÓS DEDUÇÕES OBRIGATÓRIAS (R$)'] = df_civis_remun['REMUNERAÇÃO APÓS DEDUÇÕES OBRIGATÓRIAS (R$)'].str.replace(',','.')"
   ]
  },
  {
   "cell_type": "code",
   "execution_count": 23,
   "metadata": {},
   "outputs": [
    {
     "data": {
      "text/plain": [
       "Id_SERVIDOR_PORTAL                             float64\n",
       "REMUNERAÇÃO BÁSICA BRUTA (R$)                  float64\n",
       "REMUNERAÇÃO APÓS DEDUÇÕES OBRIGATÓRIAS (R$)    float64\n",
       "dtype: object"
      ]
     },
     "execution_count": 23,
     "metadata": {},
     "output_type": "execute_result"
    }
   ],
   "source": [
    "df_civis_remun['REMUNERAÇÃO BÁSICA BRUTA (R$)'] = df_civis_remun['REMUNERAÇÃO BÁSICA BRUTA (R$)'].astype('float')\n",
    "df_civis_remun['REMUNERAÇÃO APÓS DEDUÇÕES OBRIGATÓRIAS (R$)'] = df_civis_remun['REMUNERAÇÃO APÓS DEDUÇÕES OBRIGATÓRIAS (R$)'].astype('float')\n",
    "df_civis_remun.dtypes"
   ]
  },
  {
   "cell_type": "code",
   "execution_count": 24,
   "metadata": {},
   "outputs": [
    {
     "data": {
      "text/plain": [
       "Id_SERVIDOR_PORTAL            int64\n",
       "DESCRICAO_CARGO              object\n",
       "NIVEL_CARGO                   int64\n",
       "ORG_EXERCICIO                object\n",
       "JORNADA_DE_TRABALHO          object\n",
       "DATA_INGRESSO_CARGOFUNCAO    object\n",
       "UF_EXERCICIO                 object\n",
       "dtype: object"
      ]
     },
     "execution_count": 24,
     "metadata": {},
     "output_type": "execute_result"
    }
   ],
   "source": [
    "df_militar_dados.dtypes"
   ]
  },
  {
   "cell_type": "code",
   "execution_count": 25,
   "metadata": {},
   "outputs": [
    {
     "data": {
      "text/plain": [
       "Id_SERVIDOR_PORTAL                             float64\n",
       "REMUNERAÇÃO BÁSICA BRUTA (R$)                   object\n",
       "REMUNERAÇÃO APÓS DEDUÇÕES OBRIGATÓRIAS (R$)     object\n",
       "dtype: object"
      ]
     },
     "execution_count": 25,
     "metadata": {},
     "output_type": "execute_result"
    }
   ],
   "source": [
    "df_militar_remun.dtypes"
   ]
  },
  {
   "cell_type": "code",
   "execution_count": 26,
   "metadata": {},
   "outputs": [],
   "source": [
    "df_militar_remun['REMUNERAÇÃO BÁSICA BRUTA (R$)'] = df_militar_remun['REMUNERAÇÃO BÁSICA BRUTA (R$)'].str.replace(',','.')\n",
    "df_militar_remun['REMUNERAÇÃO APÓS DEDUÇÕES OBRIGATÓRIAS (R$)'] = df_militar_remun['REMUNERAÇÃO APÓS DEDUÇÕES OBRIGATÓRIAS (R$)'].str.replace(',','.')"
   ]
  },
  {
   "cell_type": "code",
   "execution_count": 27,
   "metadata": {},
   "outputs": [
    {
     "data": {
      "text/plain": [
       "Id_SERVIDOR_PORTAL                             float64\n",
       "REMUNERAÇÃO BÁSICA BRUTA (R$)                  float64\n",
       "REMUNERAÇÃO APÓS DEDUÇÕES OBRIGATÓRIAS (R$)    float64\n",
       "dtype: object"
      ]
     },
     "execution_count": 27,
     "metadata": {},
     "output_type": "execute_result"
    }
   ],
   "source": [
    "df_militar_remun['REMUNERAÇÃO BÁSICA BRUTA (R$)'] = df_militar_remun['REMUNERAÇÃO BÁSICA BRUTA (R$)'].astype('float')\n",
    "df_militar_remun['REMUNERAÇÃO APÓS DEDUÇÕES OBRIGATÓRIAS (R$)'] = df_militar_remun['REMUNERAÇÃO APÓS DEDUÇÕES OBRIGATÓRIAS (R$)'].astype('float')\n",
    "df_militar_remun.dtypes"
   ]
  },
  {
   "cell_type": "markdown",
   "metadata": {},
   "source": [
    "### 4.6 - VERIFICANDO DADOS NULOS OU AUSENTES"
   ]
  },
  {
   "cell_type": "code",
   "execution_count": 28,
   "metadata": {},
   "outputs": [
    {
     "data": {
      "text/plain": [
       "Id_SERVIDOR_PORTAL               0\n",
       "DESCRICAO_CARGO                  0\n",
       "NIVEL_CARGO                   3661\n",
       "ORG_EXERCICIO                    0\n",
       "JORNADA_DE_TRABALHO              0\n",
       "DATA_INGRESSO_CARGOFUNCAO    68128\n",
       "UF_EXERCICIO                     0\n",
       "dtype: int64"
      ]
     },
     "execution_count": 28,
     "metadata": {},
     "output_type": "execute_result"
    }
   ],
   "source": [
    "df_civis_dados.isnull().sum()"
   ]
  },
  {
   "cell_type": "code",
   "execution_count": 29,
   "metadata": {},
   "outputs": [
    {
     "data": {
      "text/plain": [
       "Id_SERVIDOR_PORTAL                             1\n",
       "REMUNERAÇÃO BÁSICA BRUTA (R$)                  1\n",
       "REMUNERAÇÃO APÓS DEDUÇÕES OBRIGATÓRIAS (R$)    1\n",
       "dtype: int64"
      ]
     },
     "execution_count": 29,
     "metadata": {},
     "output_type": "execute_result"
    }
   ],
   "source": [
    "df_civis_remun.isnull().sum()"
   ]
  },
  {
   "cell_type": "code",
   "execution_count": 30,
   "metadata": {},
   "outputs": [],
   "source": [
    "df_civis_remun.dropna(axis=0, how='any', thresh=None, subset=None, inplace=True)"
   ]
  },
  {
   "cell_type": "code",
   "execution_count": 31,
   "metadata": {},
   "outputs": [
    {
     "data": {
      "text/plain": [
       "Id_SERVIDOR_PORTAL                             0\n",
       "REMUNERAÇÃO BÁSICA BRUTA (R$)                  0\n",
       "REMUNERAÇÃO APÓS DEDUÇÕES OBRIGATÓRIAS (R$)    0\n",
       "dtype: int64"
      ]
     },
     "execution_count": 31,
     "metadata": {},
     "output_type": "execute_result"
    }
   ],
   "source": [
    "df_civis_remun.isnull().sum()"
   ]
  },
  {
   "cell_type": "code",
   "execution_count": 32,
   "metadata": {},
   "outputs": [
    {
     "data": {
      "text/plain": [
       "Id_SERVIDOR_PORTAL                0\n",
       "DESCRICAO_CARGO                   0\n",
       "NIVEL_CARGO                       0\n",
       "ORG_EXERCICIO                     0\n",
       "JORNADA_DE_TRABALHO               0\n",
       "DATA_INGRESSO_CARGOFUNCAO    364142\n",
       "UF_EXERCICIO                      0\n",
       "dtype: int64"
      ]
     },
     "execution_count": 32,
     "metadata": {},
     "output_type": "execute_result"
    }
   ],
   "source": [
    "df_militar_dados.isnull().sum()"
   ]
  },
  {
   "cell_type": "code",
   "execution_count": 33,
   "metadata": {},
   "outputs": [
    {
     "data": {
      "text/plain": [
       "Id_SERVIDOR_PORTAL                             1\n",
       "REMUNERAÇÃO BÁSICA BRUTA (R$)                  1\n",
       "REMUNERAÇÃO APÓS DEDUÇÕES OBRIGATÓRIAS (R$)    1\n",
       "dtype: int64"
      ]
     },
     "execution_count": 33,
     "metadata": {},
     "output_type": "execute_result"
    }
   ],
   "source": [
    "df_militar_remun.isnull().sum()"
   ]
  },
  {
   "cell_type": "code",
   "execution_count": 34,
   "metadata": {},
   "outputs": [],
   "source": [
    "df_militar_remun.dropna(axis=0, how='any', thresh=None, subset=None, inplace=True)"
   ]
  },
  {
   "cell_type": "code",
   "execution_count": 35,
   "metadata": {},
   "outputs": [
    {
     "data": {
      "text/plain": [
       "Id_SERVIDOR_PORTAL                             0\n",
       "REMUNERAÇÃO BÁSICA BRUTA (R$)                  0\n",
       "REMUNERAÇÃO APÓS DEDUÇÕES OBRIGATÓRIAS (R$)    0\n",
       "dtype: int64"
      ]
     },
     "execution_count": 35,
     "metadata": {},
     "output_type": "execute_result"
    }
   ],
   "source": [
    "df_militar_remun.isnull().sum()"
   ]
  },
  {
   "cell_type": "markdown",
   "metadata": {},
   "source": [
    "### 4.7 - UNINDO AS TABELAS DADOS E REMUNERAÇÃO"
   ]
  },
  {
   "cell_type": "code",
   "execution_count": 36,
   "metadata": {},
   "outputs": [
    {
     "data": {
      "text/html": [
       "<div>\n",
       "<style scoped>\n",
       "    .dataframe tbody tr th:only-of-type {\n",
       "        vertical-align: middle;\n",
       "    }\n",
       "\n",
       "    .dataframe tbody tr th {\n",
       "        vertical-align: top;\n",
       "    }\n",
       "\n",
       "    .dataframe thead th {\n",
       "        text-align: right;\n",
       "    }\n",
       "</style>\n",
       "<table border=\"1\" class=\"dataframe\">\n",
       "  <thead>\n",
       "    <tr style=\"text-align: right;\">\n",
       "      <th></th>\n",
       "      <th>Id_SERVIDOR_PORTAL</th>\n",
       "      <th>DESCRICAO_CARGO</th>\n",
       "      <th>NIVEL_CARGO</th>\n",
       "      <th>ORG_EXERCICIO</th>\n",
       "      <th>JORNADA_DE_TRABALHO</th>\n",
       "      <th>DATA_INGRESSO_CARGOFUNCAO</th>\n",
       "      <th>UF_EXERCICIO</th>\n",
       "      <th>REMUNERAÇÃO BÁSICA BRUTA (R$)</th>\n",
       "      <th>REMUNERAÇÃO APÓS DEDUÇÕES OBRIGATÓRIAS (R$)</th>\n",
       "    </tr>\n",
       "  </thead>\n",
       "  <tbody>\n",
       "    <tr>\n",
       "      <th>0</th>\n",
       "      <td>5116961</td>\n",
       "      <td>BIBLIOTECARIO-DOCUMENTALISTA</td>\n",
       "      <td>0.0</td>\n",
       "      <td>Instituto Federal do Ceará</td>\n",
       "      <td>40 HORAS SEMANAIS</td>\n",
       "      <td>11/02/2009</td>\n",
       "      <td>CE</td>\n",
       "      <td>7967.90</td>\n",
       "      <td>6458.52</td>\n",
       "    </tr>\n",
       "    <tr>\n",
       "      <th>1</th>\n",
       "      <td>201964</td>\n",
       "      <td>Sem informação</td>\n",
       "      <td>-1.0</td>\n",
       "      <td>Banco Central do Brasil</td>\n",
       "      <td>40 HORAS SEMANAIS</td>\n",
       "      <td>10/06/2019</td>\n",
       "      <td>-1</td>\n",
       "      <td>34006.68</td>\n",
       "      <td>25821.19</td>\n",
       "    </tr>\n",
       "    <tr>\n",
       "      <th>2</th>\n",
       "      <td>201964</td>\n",
       "      <td>ANALISTA DO BANCO CENTRAL</td>\n",
       "      <td>NaN</td>\n",
       "      <td>Banco Central do Brasil</td>\n",
       "      <td>40 HORAS SEMANAIS</td>\n",
       "      <td>05/01/1998</td>\n",
       "      <td>DF</td>\n",
       "      <td>34006.68</td>\n",
       "      <td>25821.19</td>\n",
       "    </tr>\n",
       "    <tr>\n",
       "      <th>3</th>\n",
       "      <td>4405000</td>\n",
       "      <td>Sem informação</td>\n",
       "      <td>-1.0</td>\n",
       "      <td>Universidade Federal do Pará</td>\n",
       "      <td>DEDICACAO EXCLUSIVA</td>\n",
       "      <td>13/04/2016</td>\n",
       "      <td>-1</td>\n",
       "      <td>14249.03</td>\n",
       "      <td>10141.35</td>\n",
       "    </tr>\n",
       "    <tr>\n",
       "      <th>4</th>\n",
       "      <td>4405000</td>\n",
       "      <td>PROFESSOR DO MAGISTERIO SUPERIOR</td>\n",
       "      <td>604.0</td>\n",
       "      <td>Universidade Federal do Pará</td>\n",
       "      <td>DEDICACAO EXCLUSIVA</td>\n",
       "      <td>01/03/2013</td>\n",
       "      <td>-1</td>\n",
       "      <td>14249.03</td>\n",
       "      <td>10141.35</td>\n",
       "    </tr>\n",
       "  </tbody>\n",
       "</table>\n",
       "</div>"
      ],
      "text/plain": [
       "   Id_SERVIDOR_PORTAL                   DESCRICAO_CARGO  NIVEL_CARGO  \\\n",
       "0             5116961      BIBLIOTECARIO-DOCUMENTALISTA          0.0   \n",
       "1              201964                    Sem informação         -1.0   \n",
       "2              201964         ANALISTA DO BANCO CENTRAL          NaN   \n",
       "3             4405000                    Sem informação         -1.0   \n",
       "4             4405000  PROFESSOR DO MAGISTERIO SUPERIOR        604.0   \n",
       "\n",
       "                  ORG_EXERCICIO  JORNADA_DE_TRABALHO  \\\n",
       "0    Instituto Federal do Ceará    40 HORAS SEMANAIS   \n",
       "1       Banco Central do Brasil    40 HORAS SEMANAIS   \n",
       "2       Banco Central do Brasil    40 HORAS SEMANAIS   \n",
       "3  Universidade Federal do Pará  DEDICACAO EXCLUSIVA   \n",
       "4  Universidade Federal do Pará  DEDICACAO EXCLUSIVA   \n",
       "\n",
       "  DATA_INGRESSO_CARGOFUNCAO UF_EXERCICIO  REMUNERAÇÃO BÁSICA BRUTA (R$)  \\\n",
       "0                11/02/2009           CE                        7967.90   \n",
       "1                10/06/2019           -1                       34006.68   \n",
       "2                05/01/1998           DF                       34006.68   \n",
       "3                13/04/2016           -1                       14249.03   \n",
       "4                01/03/2013           -1                       14249.03   \n",
       "\n",
       "   REMUNERAÇÃO APÓS DEDUÇÕES OBRIGATÓRIAS (R$)  \n",
       "0                                      6458.52  \n",
       "1                                     25821.19  \n",
       "2                                     25821.19  \n",
       "3                                     10141.35  \n",
       "4                                     10141.35  "
      ]
     },
     "execution_count": 36,
     "metadata": {},
     "output_type": "execute_result"
    }
   ],
   "source": [
    "df_civis = pd.merge(df_civis_dados,df_civis_remun, on = 'Id_SERVIDOR_PORTAL', how = 'right')\n",
    "df_civis.head()"
   ]
  },
  {
   "cell_type": "code",
   "execution_count": 37,
   "metadata": {},
   "outputs": [
    {
     "data": {
      "text/html": [
       "<div>\n",
       "<style scoped>\n",
       "    .dataframe tbody tr th:only-of-type {\n",
       "        vertical-align: middle;\n",
       "    }\n",
       "\n",
       "    .dataframe tbody tr th {\n",
       "        vertical-align: top;\n",
       "    }\n",
       "\n",
       "    .dataframe thead th {\n",
       "        text-align: right;\n",
       "    }\n",
       "</style>\n",
       "<table border=\"1\" class=\"dataframe\">\n",
       "  <thead>\n",
       "    <tr style=\"text-align: right;\">\n",
       "      <th></th>\n",
       "      <th>Id_SERVIDOR_PORTAL</th>\n",
       "      <th>DESCRICAO_CARGO</th>\n",
       "      <th>NIVEL_CARGO</th>\n",
       "      <th>ORG_EXERCICIO</th>\n",
       "      <th>JORNADA_DE_TRABALHO</th>\n",
       "      <th>DATA_INGRESSO_CARGOFUNCAO</th>\n",
       "      <th>UF_EXERCICIO</th>\n",
       "      <th>REMUNERAÇÃO BÁSICA BRUTA (R$)</th>\n",
       "      <th>REMUNERAÇÃO APÓS DEDUÇÕES OBRIGATÓRIAS (R$)</th>\n",
       "    </tr>\n",
       "  </thead>\n",
       "  <tbody>\n",
       "    <tr>\n",
       "      <th>0</th>\n",
       "      <td>4806495</td>\n",
       "      <td>Primeiro-Tenente</td>\n",
       "      <td>0</td>\n",
       "      <td>Comando da Aeronáutica</td>\n",
       "      <td>DSPN. PERMANENTE</td>\n",
       "      <td>NaN</td>\n",
       "      <td>-1</td>\n",
       "      <td>11130.75</td>\n",
       "      <td>8479.56</td>\n",
       "    </tr>\n",
       "    <tr>\n",
       "      <th>1</th>\n",
       "      <td>8903134</td>\n",
       "      <td>Terceiro-Sargento</td>\n",
       "      <td>0</td>\n",
       "      <td>Comando da Aeronáutica</td>\n",
       "      <td>DSPN. PERMANENTE</td>\n",
       "      <td>NaN</td>\n",
       "      <td>-1</td>\n",
       "      <td>5049.00</td>\n",
       "      <td>4108.35</td>\n",
       "    </tr>\n",
       "    <tr>\n",
       "      <th>2</th>\n",
       "      <td>9404736</td>\n",
       "      <td>Marinheiro, Soldado Fuzileiro Naval</td>\n",
       "      <td>0</td>\n",
       "      <td>Comando da Marinha</td>\n",
       "      <td>DSPN. PERMANENTE</td>\n",
       "      <td>NaN</td>\n",
       "      <td>-1</td>\n",
       "      <td>1950.00</td>\n",
       "      <td>1401.19</td>\n",
       "    </tr>\n",
       "    <tr>\n",
       "      <th>3</th>\n",
       "      <td>86040592</td>\n",
       "      <td>Soldado-Recruta</td>\n",
       "      <td>0</td>\n",
       "      <td>Comando do Exército</td>\n",
       "      <td>DSPN. PERMANENTE</td>\n",
       "      <td>NaN</td>\n",
       "      <td>-1</td>\n",
       "      <td>956.00</td>\n",
       "      <td>2026.72</td>\n",
       "    </tr>\n",
       "    <tr>\n",
       "      <th>4</th>\n",
       "      <td>2504309</td>\n",
       "      <td>Terceiro-Sargento</td>\n",
       "      <td>0</td>\n",
       "      <td>Comando da Marinha</td>\n",
       "      <td>DSPN. PERMANENTE</td>\n",
       "      <td>NaN</td>\n",
       "      <td>-1</td>\n",
       "      <td>5967.00</td>\n",
       "      <td>3146.20</td>\n",
       "    </tr>\n",
       "  </tbody>\n",
       "</table>\n",
       "</div>"
      ],
      "text/plain": [
       "   Id_SERVIDOR_PORTAL                      DESCRICAO_CARGO  NIVEL_CARGO  \\\n",
       "0             4806495                     Primeiro-Tenente            0   \n",
       "1             8903134                    Terceiro-Sargento            0   \n",
       "2             9404736  Marinheiro, Soldado Fuzileiro Naval            0   \n",
       "3            86040592                      Soldado-Recruta            0   \n",
       "4             2504309                    Terceiro-Sargento            0   \n",
       "\n",
       "            ORG_EXERCICIO JORNADA_DE_TRABALHO DATA_INGRESSO_CARGOFUNCAO  \\\n",
       "0  Comando da Aeronáutica    DSPN. PERMANENTE                       NaN   \n",
       "1  Comando da Aeronáutica    DSPN. PERMANENTE                       NaN   \n",
       "2      Comando da Marinha    DSPN. PERMANENTE                       NaN   \n",
       "3     Comando do Exército    DSPN. PERMANENTE                       NaN   \n",
       "4      Comando da Marinha    DSPN. PERMANENTE                       NaN   \n",
       "\n",
       "  UF_EXERCICIO  REMUNERAÇÃO BÁSICA BRUTA (R$)  \\\n",
       "0           -1                       11130.75   \n",
       "1           -1                        5049.00   \n",
       "2           -1                        1950.00   \n",
       "3           -1                         956.00   \n",
       "4           -1                        5967.00   \n",
       "\n",
       "   REMUNERAÇÃO APÓS DEDUÇÕES OBRIGATÓRIAS (R$)  \n",
       "0                                      8479.56  \n",
       "1                                      4108.35  \n",
       "2                                      1401.19  \n",
       "3                                      2026.72  \n",
       "4                                      3146.20  "
      ]
     },
     "execution_count": 37,
     "metadata": {},
     "output_type": "execute_result"
    }
   ],
   "source": [
    "df_militar = pd.merge(df_militar_dados, df_militar_remun, on = 'Id_SERVIDOR_PORTAL', how = 'right' )\n",
    "df_militar.head()"
   ]
  },
  {
   "cell_type": "code",
   "execution_count": null,
   "metadata": {},
   "outputs": [],
   "source": []
  },
  {
   "cell_type": "markdown",
   "metadata": {},
   "source": [
    "## 5 - EXPLORANDO OS DADOS"
   ]
  },
  {
   "cell_type": "markdown",
   "metadata": {},
   "source": [
    "### 5.1 -  QUANTIDADE DE SERVIDORES NAS PLANILHAS DE REMUNERAÇÃO"
   ]
  },
  {
   "cell_type": "code",
   "execution_count": 38,
   "metadata": {
    "scrolled": true
   },
   "outputs": [
    {
     "name": "stdout",
     "output_type": "stream",
     "text": [
      "Aparecem 652590 servidores CIVIS como membros de serviço público federal\n"
     ]
    }
   ],
   "source": [
    "quant_civis = df_civis['Id_SERVIDOR_PORTAL'].value_counts().sum()\n",
    "print ('Aparecem {} servidores CIVIS como membros de serviço público federal'. format(quant_civis))"
   ]
  },
  {
   "cell_type": "code",
   "execution_count": 39,
   "metadata": {},
   "outputs": [
    {
     "name": "stdout",
     "output_type": "stream",
     "text": [
      "Há 365546 MILITARES registrados pelo governo federal\n"
     ]
    }
   ],
   "source": [
    "quant_militar = df_militar['Id_SERVIDOR_PORTAL'].value_counts().sum()\n",
    "print('Há {} MILITARES registrados pelo governo federal'. format(quant_militar))"
   ]
  },
  {
   "cell_type": "markdown",
   "metadata": {},
   "source": [
    "### 5.2 - COMPARAÇÃO ENTRE OS TOTAIS DE SERVIDORES CIVIS (ÁREA AZUL) E MILITARES (ÁREA DO RETÂNGULO COM BORDA ESCURA)"
   ]
  },
  {
   "cell_type": "code",
   "execution_count": 40,
   "metadata": {},
   "outputs": [
    {
     "data": {
      "text/plain": [
       "<matplotlib.axes._subplots.AxesSubplot at 0x21d52a7bef0>"
      ]
     },
     "execution_count": 40,
     "metadata": {},
     "output_type": "execute_result"
    },
    {
     "data": {
      "image/png": "[encoded data removed]",
      "text/plain": [
       "<Figure size 432x288 with 1 Axes>"
      ]
     },
     "metadata": {},
     "output_type": "display_data"
    }
   ],
   "source": [
    "sns.barplot(quant_civis, orient = 'v')\n",
    "sns.barplot(quant_militar,linewidth=2.5, facecolor=(1, 1, 1, 0),\n",
    "                 errcolor=\".8\", edgecolor=\".2\", orient = 'v')\n",
    "\n"
   ]
  },
  {
   "cell_type": "markdown",
   "metadata": {},
   "source": [
    "### 5.3 - RENDA BRUTA MÉDIA"
   ]
  },
  {
   "cell_type": "code",
   "execution_count": 41,
   "metadata": {},
   "outputs": [
    {
     "name": "stdout",
     "output_type": "stream",
     "text": [
      "A remuneração bruta média dos Servidores públicos CIVIS no BRASIL é de R$ 10758.33\n"
     ]
    }
   ],
   "source": [
    "media_civis = df_civis['REMUNERAÇÃO BÁSICA BRUTA (R$)'].mean()\n",
    "print ('A remuneração bruta média dos Servidores públicos CIVIS no BRASIL é de R$ {:.2f}'.format(media_civis))"
   ]
  },
  {
   "cell_type": "code",
   "execution_count": 42,
   "metadata": {},
   "outputs": [
    {
     "name": "stdout",
     "output_type": "stream",
     "text": [
      "A remuneração bruta média dos Servidores públicos MILITARES no BRASIL é de R$ 5116.42\n"
     ]
    }
   ],
   "source": [
    "media_militar = df_militar['REMUNERAÇÃO BÁSICA BRUTA (R$)'].mean()\n",
    "print ('A remuneração bruta média dos Servidores públicos MILITARES no BRASIL é de R$ {:.2f}'.format(media_militar))"
   ]
  },
  {
   "cell_type": "markdown",
   "metadata": {},
   "source": [
    "### 5.4 - REMUNERAÇÕES MÁXIMAS"
   ]
  },
  {
   "cell_type": "code",
   "execution_count": 43,
   "metadata": {},
   "outputs": [
    {
     "name": "stdout",
     "output_type": "stream",
     "text": [
      "R$ 64795.84 é a maior remuneração bruta paga a um servidor civil\n"
     ]
    }
   ],
   "source": [
    "max_civis = df_civis['REMUNERAÇÃO BÁSICA BRUTA (R$)'].max()\n",
    "print('R$ {:.2f} é a maior remuneração bruta paga a um servidor civil'.format(max_civis))"
   ]
  },
  {
   "cell_type": "code",
   "execution_count": 44,
   "metadata": {},
   "outputs": [
    {
     "name": "stdout",
     "output_type": "stream",
     "text": [
      "R$ 49544.25 é a maior remuneração bruta paga a um servidor militar\n"
     ]
    }
   ],
   "source": [
    "max_militar = df_militar['REMUNERAÇÃO BÁSICA BRUTA (R$)'].max()\n",
    "print('R$ {:.2f} é a maior remuneração bruta paga a um servidor militar'.format(max_militar))"
   ]
  },
  {
   "cell_type": "code",
   "execution_count": null,
   "metadata": {},
   "outputs": [],
   "source": []
  },
  {
   "cell_type": "markdown",
   "metadata": {},
   "source": [
    "### 5.5 - DISTRIBUIÇÃO DAS REMUNERAÇÕES"
   ]
  },
  {
   "cell_type": "markdown",
   "metadata": {},
   "source": [
    "#### CIVIS"
   ]
  },
  {
   "cell_type": "code",
   "execution_count": 45,
   "metadata": {},
   "outputs": [
    {
     "data": {
      "text/plain": [
       "<seaborn.axisgrid.FacetGrid at 0x21d50b8a320>"
      ]
     },
     "execution_count": 45,
     "metadata": {},
     "output_type": "execute_result"
    },
    {
     "data": {
      "image/png": "[encoded data removed]",
      "text/plain": [
       "<Figure size 360x360 with 1 Axes>"
      ]
     },
     "metadata": {},
     "output_type": "display_data"
    }
   ],
   "source": [
    "sns.catplot(x='REMUNERAÇÃO BÁSICA BRUTA (R$)', kind = 'box', data = df_civis)"
   ]
  },
  {
   "cell_type": "markdown",
   "metadata": {},
   "source": [
    "#### MILITARES"
   ]
  },
  {
   "cell_type": "code",
   "execution_count": 145,
   "metadata": {},
   "outputs": [
    {
     "data": {
      "text/plain": [
       "<seaborn.axisgrid.FacetGrid at 0x21d2875fb38>"
      ]
     },
     "execution_count": 145,
     "metadata": {},
     "output_type": "execute_result"
    },
    {
     "data": {
      "image/png": "[encoded data removed]",
      "text/plain": [
       "<Figure size 360x360 with 1 Axes>"
      ]
     },
     "metadata": {},
     "output_type": "display_data"
    }
   ],
   "source": [
    "sns.catplot(x='REMUNERAÇÃO BÁSICA BRUTA (R$)', kind = 'box',palette = 'Set2', data = df_militar)"
   ]
  },
  {
   "cell_type": "markdown",
   "metadata": {},
   "source": [
    "### 5.6 - MÉDIA DE REMUNERAÇÃO POR ÓRGÃO"
   ]
  },
  {
   "cell_type": "markdown",
   "metadata": {},
   "source": [
    "#### AS 10 MAIORES MÉDIAS DE REMUNERAÇÃO POR ÓRGÃO (CIVIS)"
   ]
  },
  {
   "cell_type": "code",
   "execution_count": 136,
   "metadata": {},
   "outputs": [
    {
     "data": {
      "text/plain": [
       "Text(0.5,0,'REMUNERAÇÃO MÉDIA')"
      ]
     },
     "execution_count": 136,
     "metadata": {},
     "output_type": "execute_result"
    },
    {
     "data": {
      "image/png": "[encoded data removed]",
      "text/plain": [
       "<Figure size 720x288 with 1 Axes>"
      ]
     },
     "metadata": {},
     "output_type": "display_data"
    }
   ],
   "source": [
    "media_por_org_civis = df_civis['REMUNERAÇÃO BÁSICA BRUTA (R$)'].groupby(df_civis['ORG_EXERCICIO']).mean()\n",
    "plt.figure(figsize = (10,4))\n",
    "media_por_org_civis.sort_values(ascending=False)[0:9].plot.barh()\n",
    "plt.ylabel('DESCRIÇÃO DO ÓRGÃO')\n",
    "plt.xlabel('REMUNERAÇÃO MÉDIA')"
   ]
  },
  {
   "cell_type": "markdown",
   "metadata": {},
   "source": [
    "#### AS 10 MAIORES MÉDIAS DE REMUNERAÇÃO POR ÓRGÃO (MILITARES)"
   ]
  },
  {
   "cell_type": "code",
   "execution_count": 138,
   "metadata": {},
   "outputs": [
    {
     "data": {
      "text/plain": [
       "Text(0.5,0,'REMUNERAÇÃO MÉDIA')"
      ]
     },
     "execution_count": 138,
     "metadata": {},
     "output_type": "execute_result"
    },
    {
     "data": {
      "image/png": "[encoded data removed]",
      "text/plain": [
       "<Figure size 720x288 with 1 Axes>"
      ]
     },
     "metadata": {},
     "output_type": "display_data"
    }
   ],
   "source": [
    "media_por_org_militar = df_militar['REMUNERAÇÃO BÁSICA BRUTA (R$)'].groupby(df_militar['ORG_EXERCICIO']).mean()\n",
    "plt.figure(figsize = (10,4))\n",
    "media_por_org_militar.sort_values(ascending = False)[0:9].plot.barh()\n",
    "plt.ylabel('DESCRIÇÃO DO ÓRGÃO')\n",
    "plt.xlabel('REMUNERAÇÃO MÉDIA')"
   ]
  },
  {
   "cell_type": "markdown",
   "metadata": {},
   "source": [
    "### 5.7  -  MÉDIA DE REMUNERAÇÃO POR CARGO"
   ]
  },
  {
   "cell_type": "markdown",
   "metadata": {},
   "source": [
    "#### AS 10 MAIORES REMUNERAÇÕES POR CARGO (CIVIS)"
   ]
  },
  {
   "cell_type": "code",
   "execution_count": 122,
   "metadata": {},
   "outputs": [
    {
     "data": {
      "text/plain": [
       "Text(0,0.5,'REMUNERAÇÃO BRUTA')"
      ]
     },
     "execution_count": 122,
     "metadata": {},
     "output_type": "execute_result"
    },
    {
     "data": {
      "image/png": "[encoded data removed]",
      "text/plain": [
       "<Figure size 720x288 with 1 Axes>"
      ]
     },
     "metadata": {},
     "output_type": "display_data"
    }
   ],
   "source": [
    "media_por_cargo_civil = df_civis['REMUNERAÇÃO BÁSICA BRUTA (R$)'].groupby(df_civis['DESCRICAO_CARGO']).mean()\n",
    "plt.figure(figsize = (10,4))\n",
    "media_por_cargo_civil.sort_values(ascending = False)[0:10].plot.bar()\n",
    "plt.xlabel('DESCRIÇÃO DO CARGO')\n",
    "plt.ylabel('REMUNERAÇÃO BRUTA')"
   ]
  },
  {
   "cell_type": "markdown",
   "metadata": {},
   "source": [
    "#### AS 10 MAIORES REMUNERAÇÕES POR CARGO (MILITARES)"
   ]
  },
  {
   "cell_type": "code",
   "execution_count": 123,
   "metadata": {},
   "outputs": [
    {
     "data": {
      "text/plain": [
       "Text(0,0.5,'REMUNERAÇÃO BRUTA')"
      ]
     },
     "execution_count": 123,
     "metadata": {},
     "output_type": "execute_result"
    },
    {
     "data": {
      "image/png": "[encoded data removed]",
      "text/plain": [
       "<Figure size 720x288 with 1 Axes>"
      ]
     },
     "metadata": {},
     "output_type": "display_data"
    }
   ],
   "source": [
    "media_por_cargo_militar = df_militar['REMUNERAÇÃO BÁSICA BRUTA (R$)'].groupby(df_militar['DESCRICAO_CARGO']).mean()\n",
    "plt.figure(figsize = (10,4))\n",
    "media_por_cargo_militar.sort_values(ascending = False)[0:10].plot.bar()\n",
    "plt.xlabel('DESCRIÇÃO DO CARGO')\n",
    "plt.ylabel('REMUNERAÇÃO BRUTA')"
   ]
  },
  {
   "cell_type": "markdown",
   "metadata": {},
   "source": [
    "### 5.8  - TOTAL MENSAL GASTO PELA UNIÃO COM SERVIDORES"
   ]
  },
  {
   "cell_type": "code",
   "execution_count": 149,
   "metadata": {},
   "outputs": [
    {
     "name": "stdout",
     "output_type": "stream",
     "text": [
      "A União gasta por mês R$7020780255.27 com SERVIDORES CIVIS  e R$1870285925.06 com SERVIDORES MILITARES\n"
     ]
    }
   ],
   "source": [
    "sum_rem_civis = df_civis['REMUNERAÇÃO BÁSICA BRUTA (R$)'].sum()\n",
    "sum_rem_mil = df_militar['REMUNERAÇÃO BÁSICA BRUTA (R$)'].sum()\n",
    "print ('A União gasta por mês R${:.2f} com SERVIDORES CIVIS  e R${:.2f} com SERVIDORES MILITARES'.format(sum_rem_civis,sum_rem_mil))"
   ]
  },
  {
   "cell_type": "code",
   "execution_count": null,
   "metadata": {},
   "outputs": [],
   "source": []
  }
 ],
 "metadata": {
  "kernelspec": {
   "display_name": "Python 3",
   "language": "python",
   "name": "python3"
  },
  "language_info": {
   "codemirror_mode": {
    "name": "ipython",
    "version": 3
   },
   "file_extension": ".py",
   "mimetype": "text/x-python",
   "name": "python",
   "nbconvert_exporter": "python",
   "pygments_lexer": "ipython3",
   "version": "3.6.5"
  }
 },
 "nbformat": 4,
 "nbformat_minor": 2
}
